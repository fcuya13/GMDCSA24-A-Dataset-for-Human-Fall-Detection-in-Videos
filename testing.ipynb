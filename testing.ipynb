{
 "cells": [
  {
   "cell_type": "code",
   "execution_count": null,
   "id": "initial_id",
   "metadata": {
    "collapsed": true
   },
   "outputs": [],
   "source": [
    "# https://github.com/rhafaelc/Fall-Detection-YOLO-MediaPipe.git\n",
    "# https://github.com/barkhaaroraa/fall_detection_DL.git"
   ]
  },
  {
   "metadata": {
    "ExecuteTime": {
     "end_time": "2025-02-07T18:59:05.537656Z",
     "start_time": "2025-02-07T18:59:05.533765Z"
    }
   },
   "cell_type": "code",
   "source": [
    "import os\n",
    "import mediapipe as mp\n",
    "import cv2"
   ],
   "id": "9b5b54ee5a08048f",
   "outputs": [],
   "execution_count": 15
  },
  {
   "metadata": {
    "ExecuteTime": {
     "end_time": "2025-02-07T18:53:57.833874Z",
     "start_time": "2025-02-07T18:53:57.824658Z"
    }
   },
   "cell_type": "code",
   "source": [
    "def load_dataset(path):\n",
    "    adl_files = []\n",
    "    fall_files = []\n",
    "\n",
    "    for subject in sorted(os.listdir(path)):\n",
    "        subject_path = os.path.join(path, subject)\n",
    "        if os.path.isdir(subject_path):\n",
    "            adl_path = os.path.join(subject_path, \"ADL\")\n",
    "            fall_path = os.path.join(subject_path, \"Fall\")\n",
    "\n",
    "            if os.path.exists(adl_path):\n",
    "                adl_files.extend([os.path.join(adl_path, f) for f in sorted(os.listdir(adl_path)) if f.endswith(\".mp4\")])\n",
    "\n",
    "            if os.path.exists(fall_path):\n",
    "                fall_files.extend([os.path.join(fall_path, f) for f in sorted(os.listdir(fall_path)) if f.endswith(\".mp4\")])\n",
    "\n",
    "    return adl_files, fall_files"
   ],
   "id": "e21281a8ed3c5978",
   "outputs": [
    {
     "name": "stdout",
     "output_type": "stream",
     "text": [
      "ADL Videos: 81\n",
      "Fall Videos: 79\n"
     ]
    }
   ],
   "execution_count": 8
  },
  {
   "metadata": {
    "ExecuteTime": {
     "end_time": "2025-02-07T18:59:34.816545Z",
     "start_time": "2025-02-07T18:59:34.803208Z"
    }
   },
   "cell_type": "code",
   "source": [
    "DATA_PATH = \"data\"\n",
    "adl_videos, fall_videos = load_dataset(DATA_PATH)\n",
    "\n",
    "print(\"ADL Videos:\", len(adl_videos))\n",
    "print(\"Fall Videos:\", len(fall_videos))"
   ],
   "id": "16f5f992642620c",
   "outputs": [
    {
     "name": "stdout",
     "output_type": "stream",
     "text": [
      "ADL Videos: 81\n",
      "Fall Videos: 79\n"
     ]
    }
   ],
   "execution_count": 16
  },
  {
   "metadata": {},
   "cell_type": "code",
   "outputs": [],
   "execution_count": null,
   "source": "",
   "id": "a52256b1289a175"
  }
 ],
 "metadata": {
  "kernelspec": {
   "display_name": "Python 3",
   "language": "python",
   "name": "python3"
  },
  "language_info": {
   "codemirror_mode": {
    "name": "ipython",
    "version": 2
   },
   "file_extension": ".py",
   "mimetype": "text/x-python",
   "name": "python",
   "nbconvert_exporter": "python",
   "pygments_lexer": "ipython2",
   "version": "2.7.6"
  }
 },
 "nbformat": 4,
 "nbformat_minor": 5
}
